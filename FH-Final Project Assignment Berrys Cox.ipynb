{
 "cells": [
  {
   "cell_type": "code",
   "execution_count": 1,
   "metadata": {},
   "outputs": [
    {
     "name": "stderr",
     "output_type": "stream",
     "text": [
      "[*********************100%%**********************]  1 of 1 completed"
     ]
    },
    {
     "name": "stdout",
     "output_type": "stream",
     "text": [
      "Monthly data:\n",
      "                  Open        High         Low       Close   Adj Close  \\\n",
      "Date                                                                     \n",
      "2018-01-31  277.920477  279.050475  277.019998  278.304762  250.915798   \n",
      "2018-02-28  270.757368  273.381055  267.828420  270.236839  243.641851   \n",
      "2018-03-31  270.599050  272.316668  268.179522  269.981903  243.868793   \n",
      "2018-04-30  265.302381  266.828574  263.120478  264.862858  239.753143   \n",
      "2018-05-31  269.625910  270.903180  268.517269  270.070453  244.467044   \n",
      "\n",
      "                  Volume  \n",
      "Date                      \n",
      "2018-01-31  9.454794e+07  \n",
      "2018-02-28  1.538801e+08  \n",
      "2018-03-31  1.106458e+08  \n",
      "2018-04-30  9.516507e+07  \n",
      "2018-05-31  7.301805e+07  \n",
      "Filtered columns:\n",
      "Index([], dtype='object')\n",
      "No data available for z-score computation.\n"
     ]
    },
    {
     "name": "stderr",
     "output_type": "stream",
     "text": [
      "\n"
     ]
    }
   ],
   "source": [
    "import yfinance as yf\n",
    "import pandas as pd\n",
    "import numpy as np\n",
    "from datetime import datetime, timedelta\n",
    "\n",
    "# Define Berry Cox price momentum factors\n",
    "factors = {\n",
    "    \"Price Leading 12 Month Earnings (Weighted Avg of FVI and FY2)\": lambda p: p[\"Close\"].rolling(12).mean(),\n",
    "    \"Log of Market Capitalization\": lambda p: np.log(p[\"MktCap\"]),\n",
    "    \"Price Trailing 12 Month Sales\": lambda p: p[\"Close\"] / p[\"Sales TTM\"],\n",
    "    \"Log of Stock Price\": lambda p: np.log(p[\"Close\"]),\n",
    "    \"Price Trailing 12 Month Cash Flow\": lambda p: p[\"Close\"] / p[\"Free Cash Flow TTM\"],\n",
    "    \"Price Book Value\": lambda p: p[\"Close\"] / p[\"Book Value\"],\n",
    "    \"Leading Dividend Yield\": lambda p: p[\"Div Yield\"],\n",
    "    \"Industry Relative Price/Trailing Sales (Current Spread vs. 5 Year Avg)\": lambda p: (\n",
    "        p[\"Close\"] / p[\"Sales TTM\"] - p[\"Close\"].rolling(60).mean()\n",
    "    ),\n",
    "    \"Accelerating 3 Month Momentum in Quarterly Sales\": lambda p: (\n",
    "        p[\"Sales\"].rolling(3).mean() / p[\"Sales\"].rolling(6).mean()\n",
    "    ),\n",
    "    # Add other factors as needed...\n",
    "}\n",
    "\n",
    "# Define ETF and historical data period\n",
    "etf_symbol = \"SPY\"\n",
    "start_date = datetime(2018, 1, 1)  # 5-year backtesting period\n",
    "end_date = datetime.today()\n",
    "\n",
    "# Download ETF data\n",
    "data = yf.download(etf_symbol, start=start_date, end=end_date)\n",
    "\n",
    "# Calculate monthly z-scores for each factor\n",
    "monthly_data = data.resample(\"ME\").mean()  # Using 'ME' instead of 'M' to avoid FutureWarning\n",
    "print(\"Monthly data:\")\n",
    "print(monthly_data.head())\n",
    "\n",
    "for col in monthly_data.columns:\n",
    "    if col in factors:\n",
    "        monthly_data[f\"{col}_zscore\"] = (monthly_data[col] - monthly_data[col].mean()) / monthly_data[col].std()\n",
    "\n",
    "# Filter columns containing \"_zscore\" in their names\n",
    "filtered_columns = monthly_data.filter(like=\"_zscore\").columns\n",
    "print(\"Filtered columns:\")\n",
    "print(filtered_columns)\n",
    "\n",
    "if not filtered_columns.empty:\n",
    "    # Select long and short baskets (top/bottom 10 z-scores)\n",
    "    long_basket = monthly_data[monthly_data[filtered_columns].idxmax(axis=1)]\n",
    "    short_basket = monthly_data[monthly_data[filtered_columns].idxmin(axis=1)]\n",
    "\n",
    "    # Backtest performance\n",
    "    monthly_returns = pd.DataFrame()\n",
    "    monthly_returns[\"ETF\"] = data[\"Returns\"].resample(\"ME\").mean()  # Using 'ME' instead of 'M' to avoid FutureWarning\n",
    "    monthly_returns[\"Long\"] = long_basket[\"Close\"].pct_change() + 1\n",
    "    monthly_returns[\"Short\"] = (1 / short_basket[\"Close\"].pct_change()) - 1\n",
    "    monthly_returns[\"Portfolio\"] = monthly_returns[\"Long\"] - monthly_returns[\"Short\"]\n",
    "\n",
    "    # Calculate cumulative returns\n",
    "    monthly_returns[\"ETF_cumulative\"] = monthly_returns[\"ETF\"].cumprod()\n",
    "    monthly_returns[\"Long_cumulative\"] = monthly_returns[\"Long\"].cumprod()\n",
    "    monthly_returns[\"Short_cumulative\"] = monthly_returns[\"Short\"].cumprod()\n",
    "    monthly_returns[\"Portfolio_cumulative\"] = monthly_returns[\"Portfolio\"].cumprod()\n",
    "\n",
    "    # Plot results\n",
    "    monthly_returns.plot(kind=\"bar\", figsize=(15, 8))\n",
    "    monthly_returns[[\"ETF_cumulative\", \"Long_cumulative\", \"Short_cumulative\", \"Portfolio_cumulative\"]].plot(figsize=(15, 8))\n",
    "\n",
    "    # Print performance metrics\n",
    "    print(f\"Monthly Portfolio Return (mean, std): {monthly_returns['Portfolio'].mean(), monthly_returns['Portfolio'].std()}\")\n",
    "    print(f\"Sharpe Ratio: {monthly_returns['Portfolio'].mean() / monthly_returns['Portfolio'].std()}\")\n",
    "else:\n",
    "    print(\"No data available for z-score computation.\")\n"
   ]
  }
 ],
 "metadata": {
  "kernelspec": {
   "display_name": "Python 3",
   "language": "python",
   "name": "python3"
  },
  "language_info": {
   "codemirror_mode": {
    "name": "ipython",
    "version": 3
   },
   "file_extension": ".py",
   "mimetype": "text/x-python",
   "name": "python",
   "nbconvert_exporter": "python",
   "pygments_lexer": "ipython3",
   "version": "3.12.2"
  }
 },
 "nbformat": 4,
 "nbformat_minor": 2
}
